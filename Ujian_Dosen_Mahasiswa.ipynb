{
 "cells": [
  {
   "cell_type": "markdown",
   "metadata": {},
   "source": [
    "### __Soal 3 - Dosen & Mahasiswa__"
   ]
  },
  {
   "cell_type": "markdown",
   "metadata": {},
   "source": [
    "#### __2. Dengan pyMongo, matplotlib & pandas, buatlah sebuah program python yang dapat mengakses dan menampilkan:__\n",
    "\n"
   ]
  },
  {
   "cell_type": "markdown",
   "metadata": {},
   "source": [
    "#### Nama, asal, usia & status dari daftar dosen & mahasiswa di collection tersebut. "
   ]
  },
  {
   "cell_type": "code",
   "execution_count": 1,
   "metadata": {},
   "outputs": [],
   "source": [
    "import pymongo\n",
    "import pandas as pd\n",
    "import matplotlib.pyplot as plt"
   ]
  },
  {
   "cell_type": "code",
   "execution_count": 2,
   "metadata": {},
   "outputs": [],
   "source": [
    "# Mengakses database MongoDB melalui python\n",
    "urldb = \"mongodb://127.0.0.1:27017\"\n",
    "mongoku = pymongo.MongoClient(urldb)\n",
    "db = mongoku['Kampus']"
   ]
  },
  {
   "cell_type": "code",
   "execution_count": 3,
   "metadata": {},
   "outputs": [
    {
     "data": {
      "text/html": [
       "<div>\n",
       "<style scoped>\n",
       "    .dataframe tbody tr th:only-of-type {\n",
       "        vertical-align: middle;\n",
       "    }\n",
       "\n",
       "    .dataframe tbody tr th {\n",
       "        vertical-align: top;\n",
       "    }\n",
       "\n",
       "    .dataframe thead th {\n",
       "        text-align: right;\n",
       "    }\n",
       "</style>\n",
       "<table border=\"1\" class=\"dataframe\">\n",
       "  <thead>\n",
       "    <tr style=\"text-align: right;\">\n",
       "      <th></th>\n",
       "      <th>asal</th>\n",
       "      <th>nama</th>\n",
       "      <th>status</th>\n",
       "      <th>usia</th>\n",
       "    </tr>\n",
       "  </thead>\n",
       "  <tbody>\n",
       "    <tr>\n",
       "      <td>0</td>\n",
       "      <td>Jakarta</td>\n",
       "      <td>Caca</td>\n",
       "      <td>dosen</td>\n",
       "      <td>28</td>\n",
       "    </tr>\n",
       "    <tr>\n",
       "      <td>1</td>\n",
       "      <td>Yogyakarta</td>\n",
       "      <td>Deni</td>\n",
       "      <td>dosen</td>\n",
       "      <td>29</td>\n",
       "    </tr>\n",
       "    <tr>\n",
       "      <td>2</td>\n",
       "      <td>Bandung</td>\n",
       "      <td>Euis</td>\n",
       "      <td>dosen</td>\n",
       "      <td>30</td>\n",
       "    </tr>\n",
       "  </tbody>\n",
       "</table>\n",
       "</div>"
      ],
      "text/plain": [
       "         asal  nama status  usia\n",
       "0     Jakarta  Caca  dosen    28\n",
       "1  Yogyakarta  Deni  dosen    29\n",
       "2     Bandung  Euis  dosen    30"
      ]
     },
     "execution_count": 3,
     "metadata": {},
     "output_type": "execute_result"
    }
   ],
   "source": [
    "# Mengakses collection Dosen dan mengubah menjadi dataframe\n",
    "dos = db['Dosen'].find()\n",
    "dos = pd.DataFrame(dos)\n",
    "dos['status'] = 'dosen'\n",
    "dos = dos[['asal','nama','status','usia']]\n",
    "dos['usia'] = dos['usia'].astype('int')\n",
    "dos"
   ]
  },
  {
   "cell_type": "code",
   "execution_count": 4,
   "metadata": {},
   "outputs": [
    {
     "data": {
      "text/html": [
       "<div>\n",
       "<style scoped>\n",
       "    .dataframe tbody tr th:only-of-type {\n",
       "        vertical-align: middle;\n",
       "    }\n",
       "\n",
       "    .dataframe tbody tr th {\n",
       "        vertical-align: top;\n",
       "    }\n",
       "\n",
       "    .dataframe thead th {\n",
       "        text-align: right;\n",
       "    }\n",
       "</style>\n",
       "<table border=\"1\" class=\"dataframe\">\n",
       "  <thead>\n",
       "    <tr style=\"text-align: right;\">\n",
       "      <th></th>\n",
       "      <th>asal</th>\n",
       "      <th>nama</th>\n",
       "      <th>status</th>\n",
       "      <th>usia</th>\n",
       "    </tr>\n",
       "  </thead>\n",
       "  <tbody>\n",
       "    <tr>\n",
       "      <td>0</td>\n",
       "      <td>Aceh</td>\n",
       "      <td>Faza</td>\n",
       "      <td>mahasiswa</td>\n",
       "      <td>19</td>\n",
       "    </tr>\n",
       "    <tr>\n",
       "      <td>1</td>\n",
       "      <td>Semarang</td>\n",
       "      <td>Gilang</td>\n",
       "      <td>mahasiswa</td>\n",
       "      <td>20</td>\n",
       "    </tr>\n",
       "    <tr>\n",
       "      <td>2</td>\n",
       "      <td>Makassar</td>\n",
       "      <td>Hanafi</td>\n",
       "      <td>mahasiswa</td>\n",
       "      <td>19</td>\n",
       "    </tr>\n",
       "  </tbody>\n",
       "</table>\n",
       "</div>"
      ],
      "text/plain": [
       "       asal    nama     status  usia\n",
       "0      Aceh    Faza  mahasiswa    19\n",
       "1  Semarang  Gilang  mahasiswa    20\n",
       "2  Makassar  Hanafi  mahasiswa    19"
      ]
     },
     "execution_count": 4,
     "metadata": {},
     "output_type": "execute_result"
    }
   ],
   "source": [
    "# Mengakses collection Mahasiswa dan mengubah menjadi dataframe\n",
    "mhs = db['Mahasiswa'].find()\n",
    "mhs = pd.DataFrame(mhs)\n",
    "mhs['status'] = 'mahasiswa'\n",
    "mhs = mhs[['asal','nama','status','usia']]\n",
    "mhs['usia'] = mhs['usia'].astype('int')\n",
    "mhs"
   ]
  },
  {
   "cell_type": "markdown",
   "metadata": {},
   "source": [
    "#### Menampilkan diagram batang usia dari dosen & mahasiswa."
   ]
  },
  {
   "cell_type": "code",
   "execution_count": 5,
   "metadata": {},
   "outputs": [
    {
     "data": {
      "image/png": "[encoded data removed]",
      "text/plain": [
       "<Figure size 432x288 with 1 Axes>"
      ]
     },
     "metadata": {
      "needs_background": "light"
     },
     "output_type": "display_data"
    }
   ],
   "source": [
    "# Membuat diagram batang dari 2 collection / dataframe\n",
    "plt.bar(dos['nama'], dos['usia'], label='Dosen')\n",
    "plt.bar(mhs['nama'], mhs['usia'], label='Mahasiswa')\n",
    "plt.title('Usia Warga Kampus')\n",
    "plt.grid(True)\n",
    "plt.legend()\n",
    "plt.savefig('Ujian_Dosen_Mahasiswa.png')\n",
    "plt.show()"
   ]
  }
 ],
 "metadata": {
  "kernelspec": {
   "display_name": "Python 3",
   "language": "python",
   "name": "python3"
  },
  "language_info": {
   "codemirror_mode": {
    "name": "ipython",
    "version": 3
   },
   "file_extension": ".py",
   "mimetype": "text/x-python",
   "name": "python",
   "nbconvert_exporter": "python",
   "pygments_lexer": "ipython3",
   "version": "3.7.4"
  }
 },
 "nbformat": 4,
 "nbformat_minor": 4
}
